{
 "cells": [
  {
   "cell_type": "markdown",
   "metadata": {},
   "source": [
    "# 1-3 GAN\n",
    "\n",
    "<img src=\"./img/gan.png\" alt=\"autoencoder\" width=\"500\" align=\"left\"/>"
   ]
  },
  {
   "cell_type": "code",
   "execution_count": null,
   "metadata": {},
   "outputs": [],
   "source": [
    "import os\n",
    "import tensorflow as tf\n",
    "import numpy as np\n",
    "from matplotlib import pyplot as plt\n",
    "from matplotlib import gridspec as gridspec"
   ]
  },
  {
   "cell_type": "code",
   "execution_count": null,
   "metadata": {},
   "outputs": [],
   "source": [
    "CKPT_DIR = '../generated_output/GAN'"
   ]
  },
  {
   "cell_type": "code",
   "execution_count": null,
   "metadata": {},
   "outputs": [],
   "source": [
    "LEARNING_RATE = 1e-4\n",
    "TRAINING_STEPS = 30000\n",
    "BATCH_SIZE = 100\n",
    "TRAINING_SAMPLES = TRAINING_STEPS * BATCH_SIZE\n",
    "TRAINING_EPOCHS = TRAINING_SAMPLES / 60000"
   ]
  },
  {
   "cell_type": "code",
   "execution_count": null,
   "metadata": {},
   "outputs": [],
   "source": [
    "IMAGE_DIM = 784\n",
    "NOISE_DIM = 100\n",
    "GEN_HIDDEN_DIM = [256]\n",
    "DISC_HIDDEN_DIM = [256]\n",
    "graph = tf.Graph()"
   ]
  },
  {
   "cell_type": "code",
   "execution_count": null,
   "metadata": {},
   "outputs": [],
   "source": [
    "def progress_bar(current, total, prefix='', suffix='', decimals=1, length=50, bar=u\"\\u25AF\", fill=u\"\\u25AE\"):\n",
    "    percent = (\"{0:.\" + str(decimals) + \"f}\").format(100 * (current / float(total)))\n",
    "    filledLength = int(length * current // total)\n",
    "    bar = fill * filledLength + bar * (length - filledLength)\n",
    "    print('\\r%s [%s] %s%% %s' % (prefix, bar, percent, suffix), end = '\\r')\n",
    "    if current == total: \n",
    "        print()"
   ]
  },
  {
   "cell_type": "markdown",
   "metadata": {},
   "source": [
    "<img src=\"./img/gan_loss.png\" alt=\"ganloss\" width=\"800\" align=\"left\"/>"
   ]
  },
  {
   "cell_type": "code",
   "execution_count": null,
   "metadata": {},
   "outputs": [],
   "source": [
    "def disc_model(features):\n",
    "    with tf.variable_scope('discriminator', reuse=tf.AUTO_REUSE):\n",
    "        net = features\n",
    "        for units in DISC_HIDDEN_DIM:\n",
    "            net = tf.layers.dense(\n",
    "                net, units=units, \n",
    "                activation=tf.nn.relu, \n",
    "                kernel_initializer=tf.initializers.he_normal())\n",
    "        net = tf.layers.dense(\n",
    "            net, 1, \n",
    "            activation=tf.nn.sigmoid, \n",
    "            kernel_initializer=tf.initializers.he_normal())\n",
    "        return net"
   ]
  },
  {
   "cell_type": "code",
   "execution_count": null,
   "metadata": {},
   "outputs": [],
   "source": [
    "def gen_model(features):\n",
    "    with tf.variable_scope('generator', reuse=tf.AUTO_REUSE):\n",
    "        net = features\n",
    "        for units in GEN_HIDDEN_DIM:\n",
    "            net = tf.layers.dense(\n",
    "                net, units=units, \n",
    "                activation=tf.nn.relu, \n",
    "                kernel_initializer=tf.initializers.he_normal())\n",
    "        net = tf.layers.dense(\n",
    "            net, IMAGE_DIM, \n",
    "            activation=tf.nn.sigmoid, \n",
    "            kernel_initializer=tf.initializers.he_normal())\n",
    "        return net"
   ]
  },
  {
   "cell_type": "code",
   "execution_count": null,
   "metadata": {},
   "outputs": [],
   "source": [
    "def train_input_fn(features, batch_size=BATCH_SIZE):\n",
    "    with graph.as_default():\n",
    "        dataset = tf.data.Dataset.from_tensor_slices(features)\n",
    "        batch_dataset = dataset.shuffle(features.shape[0]).repeat().batch(batch_size)\n",
    "        batch = batch_dataset.make_one_shot_iterator().get_next()\n",
    "        return batch"
   ]
  },
  {
   "cell_type": "code",
   "execution_count": null,
   "metadata": {},
   "outputs": [],
   "source": [
    "def train(features):\n",
    "    if not os.path.exists(os.path.dirname(CKPT_DIR)):\n",
    "        os.makedirs(os.path.dirname(CKPT_DIR))\n",
    "        \n",
    "    with graph.as_default():\n",
    "        features = train_input_fn(features)\n",
    "        real_image = features\n",
    "        fake_noise = tf.random.uniform(\n",
    "            shape=[BATCH_SIZE, NOISE_DIM], \n",
    "            minval=-1., maxval=1., dtype=tf.float32)\n",
    "        fake_image = gen_model(fake_noise)\n",
    "        disc_real = disc_model(real_image)\n",
    "        disc_fake = disc_model(fake_image)\n",
    "        disc_loss = -tf.reduce_mean(tf.log(disc_real) + tf.log(1. - disc_fake))\n",
    "        gen_loss = tf.reduce_mean(tf.log(1. - disc_fake))\n",
    "        optimizer_disc = tf.train.AdamOptimizer(learning_rate=LEARNING_RATE)\n",
    "        optimizer_gen = tf.train.AdamOptimizer(learning_rate=LEARNING_RATE)\n",
    "        disc_train_op = optimizer_disc.minimize(\n",
    "            disc_loss,\n",
    "            var_list=tf.get_collection(\n",
    "                tf.GraphKeys.TRAINABLE_VARIABLES, scope=\"discriminator\"))\n",
    "        gen_train_op = optimizer_gen.minimize(\n",
    "            gen_loss, \n",
    "            var_list=tf.get_collection(\n",
    "                tf.GraphKeys.TRAINABLE_VARIABLES, scope=\"generator\"))\n",
    "        \n",
    "        accuracy = tf.metrics.accuracy(\n",
    "            labels=tf.zeros(shape=[BATCH_SIZE], dtype=tf.float32),\n",
    "            predictions=tf.cast((disc_fake > 0.5),tf.float32),\n",
    "            name='acc_op')\n",
    "        gen_image = tf.reshape(fake_image, [-1, 28, 28, 1])\n",
    "        tf.summary.scalar('loss_gen', gen_loss)\n",
    "        tf.summary.scalar('loss_disc', disc_loss)\n",
    "        tf.summary.scalar('accuracy', accuracy[1])\n",
    "        tf.summary.image('gen_image', gen_image, max_outputs=1)\n",
    "        merged = tf.summary.merge_all()\n",
    "        saver = tf.train.Saver()\n",
    "        with tf.Session() as sess:\n",
    "            summary_writer = tf.summary.FileWriter(CKPT_DIR, sess.graph)\n",
    "            sess.run(tf.global_variables_initializer())\n",
    "            sess.run(tf.local_variables_initializer())\n",
    "\n",
    "            for step in range(TRAINING_STEPS):\n",
    "                train_step = step + 1\n",
    "                train_sample = train_step * BATCH_SIZE\n",
    "                train_epoch = train_sample / 60000\n",
    "                sess.run([disc_train_op, gen_train_op])\n",
    "                if (train_step % (TRAINING_STEPS/10) == 0):\n",
    "                    summary = sess.run(merged)\n",
    "                    summary_writer.add_summary(summary, step)\n",
    "                if (train_step == TRAINING_STEPS):\n",
    "                    saver.save(sess, CKPT_DIR + '/gan.ckpt')\n",
    "                progress_bar(\n",
    "                    train_step, \n",
    "                    TRAINING_STEPS, \n",
    "                    prefix='>>> Training', \n",
    "                    suffix='steps: %i/%i, samples: %i/%i, epochs: %i/%i' % (\n",
    "                        train_step, \n",
    "                        TRAINING_STEPS,\n",
    "                        train_sample, \n",
    "                        TRAINING_SAMPLES,\n",
    "                        train_epoch,\n",
    "                        TRAINING_EPOCHS))\n",
    "            \n",
    "            print('>>> Training Done')"
   ]
  },
  {
   "cell_type": "code",
   "execution_count": null,
   "metadata": {},
   "outputs": [],
   "source": [
    "x_train = tf.keras.datasets.mnist.load_data()[0][0] / 255.\n",
    "x_train = x_train.reshape([-1, IMAGE_DIM]).astype(np.float32)"
   ]
  },
  {
   "cell_type": "code",
   "execution_count": null,
   "metadata": {},
   "outputs": [],
   "source": [
    "train(x_train)"
   ]
  },
  {
   "cell_type": "code",
   "execution_count": null,
   "metadata": {},
   "outputs": [],
   "source": [
    "def random_25_image_plot(seed=None):\n",
    "    with graph.as_default():\n",
    "        np.random.seed(seed)\n",
    "        random_noise = np.random.uniform(-1., 1., size=[25, NOISE_DIM]).astype(np.float32)\n",
    "        random_noise_input = train_input_fn(random_noise, batch_size=25)\n",
    "        random_gen = gen_model(random_noise_input)\n",
    "\n",
    "        fig = plt.figure(figsize=(10, 10))\n",
    "        gs = gridspec.GridSpec(5, 5)\n",
    "        gs.update(wspace=0.05)\n",
    "\n",
    "        saver = tf.train.Saver()\n",
    "        with tf.Session() as sess:\n",
    "            saver.restore(sess, tf.train.latest_checkpoint(CKPT_DIR))\n",
    "            random_image = sess.run(random_gen)\n",
    "            random_image = random_image.reshape([-1, 28, 28])\n",
    "            for i in range(25):\n",
    "                plt.subplot(gs[i])\n",
    "                plt.axis('off')\n",
    "                plt.imshow(random_image[i], cmap = 'gray')"
   ]
  },
  {
   "cell_type": "code",
   "execution_count": null,
   "metadata": {},
   "outputs": [],
   "source": [
    "random_25_image_plot()"
   ]
  }
 ],
 "metadata": {
  "kernelspec": {
   "display_name": "Python 3",
   "language": "python",
   "name": "python3"
  },
  "language_info": {
   "codemirror_mode": {
    "name": "ipython",
    "version": 3
   },
   "file_extension": ".py",
   "mimetype": "text/x-python",
   "name": "python",
   "nbconvert_exporter": "python",
   "pygments_lexer": "ipython3",
   "version": "3.6.5"
  }
 },
 "nbformat": 4,
 "nbformat_minor": 2
}
