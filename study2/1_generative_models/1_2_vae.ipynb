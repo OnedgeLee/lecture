{
 "cells": [
  {
   "cell_type": "markdown",
   "metadata": {},
   "source": [
    "# 1-2 Variational AutoEncoder\n",
    "\n",
    "<img src=\"./img/vae.png\" alt=\"variationalautoencoder\" width=\"500\" align=\"left\"/>"
   ]
  },
  {
   "cell_type": "code",
   "execution_count": null,
   "metadata": {},
   "outputs": [],
   "source": [
    "import os\n",
    "import tensorflow as tf\n",
    "import numpy as np\n",
    "from matplotlib import pyplot as plt\n",
    "from matplotlib import gridspec as gridspec"
   ]
  },
  {
   "cell_type": "code",
   "execution_count": null,
   "metadata": {},
   "outputs": [],
   "source": [
    "CKPT_DIR = \"../generated_output/VAE\""
   ]
  },
  {
   "cell_type": "code",
   "execution_count": null,
   "metadata": {},
   "outputs": [],
   "source": [
    "LEARNING_RATE = 1e-4\n",
    "TRAINING_STEPS = 3000\n",
    "BATCH_SIZE = 100\n",
    "TRAINING_SAMPLES = TRAINING_STEPS * BATCH_SIZE\n",
    "TRAINING_EPOCHS = TRAINING_SAMPLES / 60000"
   ]
  },
  {
   "cell_type": "code",
   "execution_count": null,
   "metadata": {},
   "outputs": [],
   "source": [
    "IMAGE_DIM = 784\n",
    "LATENT_DIM = 10\n",
    "ENCODER_HIDDEN_DIM = [256]\n",
    "DECODER_HIDDEN_DIM = [256]\n",
    "graph = tf.Graph()"
   ]
  },
  {
   "cell_type": "code",
   "execution_count": null,
   "metadata": {},
   "outputs": [],
   "source": [
    "def progress_bar(current, total, prefix='', suffix='', decimals=1, length=50, bar=u\"\\u25AF\", fill=u\"\\u25AE\"):\n",
    "    percent = (\"{0:.\" + str(decimals) + \"f}\").format(100 * (current / float(total)))\n",
    "    filledLength = int(length * current // total)\n",
    "    bar = fill * filledLength + bar * (length - filledLength)\n",
    "    print('\\r%s [%s] %s%% %s' % (prefix, bar, percent, suffix), end = '\\r')\n",
    "    if current == total: \n",
    "        print()"
   ]
  },
  {
   "cell_type": "markdown",
   "metadata": {},
   "source": [
    "[batch_size, 784]\n",
    "\n",
    "$\\rightarrow$ Dense(784, 256) $\\rightarrow$ relu $\\rightarrow$ [batch_size, 256]\n",
    "\n",
    "$\\rightarrow$ 2 x Dense(256, 10) $\\rightarrow$ 2 x [batch_size, 10]"
   ]
  },
  {
   "cell_type": "code",
   "execution_count": null,
   "metadata": {},
   "outputs": [],
   "source": [
    "def encoder_model(features):\n",
    "    with tf.variable_scope('encoder', reuse=tf.AUTO_REUSE):\n",
    "        net = features\n",
    "        for units in ENCODER_HIDDEN_DIM:\n",
    "            net = tf.layers.dense(\n",
    "                net, units, \n",
    "                activation=tf.nn.relu, \n",
    "                kernel_initializer=tf.initializers.he_normal())\n",
    "        latent_mean = tf.layers.dense(\n",
    "            net, LATENT_DIM, \n",
    "            kernel_initializer=tf.initializers.he_normal())\n",
    "        latent_log_var = tf.layers.dense(\n",
    "            net, LATENT_DIM, \n",
    "            kernel_initializer=tf.initializers.he_normal())\n",
    "        return latent_mean, latent_log_var"
   ]
  },
  {
   "cell_type": "markdown",
   "metadata": {},
   "source": [
    "2 x [batch_size, 10] $\\rightarrow$ [batch_size, 10]"
   ]
  },
  {
   "cell_type": "code",
   "execution_count": null,
   "metadata": {},
   "outputs": [],
   "source": [
    "def sampler_model(latent_mean, latent_log_var):\n",
    "    with tf.variable_scope('sampler', reuse=tf.AUTO_REUSE):\n",
    "        snd_sample = tf.random_normal(\n",
    "            tf.shape(latent_log_var), dtype=tf.float32, \n",
    "            mean=0., stddev=1.0)\n",
    "        latent_std = tf.exp(latent_log_var / 2)\n",
    "        latent = latent_mean + latent_std * snd_sample\n",
    "        return latent"
   ]
  },
  {
   "cell_type": "markdown",
   "metadata": {},
   "source": [
    "[batch_size, 10]\n",
    "\n",
    "$\\rightarrow$ Dense(128, 256) $\\rightarrow$ relu $\\rightarrow$ [batch_size, 256]\n",
    "\n",
    "$\\rightarrow$ Dense(256, 784) $\\rightarrow$ sigmoid $\\rightarrow$ [batch_size, 784]"
   ]
  },
  {
   "cell_type": "code",
   "execution_count": null,
   "metadata": {},
   "outputs": [],
   "source": [
    "def decoder_model(features):\n",
    "    with tf.variable_scope('decoder', reuse=tf.AUTO_REUSE):\n",
    "        net = features\n",
    "        for units in DECODER_HIDDEN_DIM:\n",
    "            net = tf.layers.dense(\n",
    "                net, units, \n",
    "                activation=tf.nn.relu, \n",
    "                kernel_initializer=tf.initializers.he_normal())\n",
    "        recon = tf.layers.dense(\n",
    "            net, IMAGE_DIM, \n",
    "            activation=tf.nn.sigmoid, \n",
    "            kernel_initializer=tf.initializers.he_normal())\n",
    "        return recon"
   ]
  },
  {
   "cell_type": "code",
   "execution_count": null,
   "metadata": {},
   "outputs": [],
   "source": [
    "def train_input_fn(features, batch_size=BATCH_SIZE):\n",
    "    with graph.as_default():\n",
    "        dataset = tf.data.Dataset.from_tensor_slices(features)\n",
    "        batch_dataset = dataset.shuffle(features.shape[0]).repeat().batch(batch_size)\n",
    "        return batch_dataset.make_one_shot_iterator().get_next()"
   ]
  },
  {
   "cell_type": "markdown",
   "metadata": {},
   "source": [
    "<img src=\"./img/vae_recloss.png\" alt=\"vae_recloss\" width=\"400\" align=\"top\"/>\n",
    "<img src=\"./img/vae_regloss.png\" alt=\"vae_regloss\" width=\"450\" align=\"top\"/>"
   ]
  },
  {
   "cell_type": "code",
   "execution_count": null,
   "metadata": {},
   "outputs": [],
   "source": [
    "def vae_loss(features, outputs, latent_mean, latent_log_var):\n",
    "    rec_loss = tf.reduce_sum(\n",
    "        tf.keras.backend.binary_crossentropy(features, outputs), 1)\n",
    "    reg_loss = -0.5 * tf.reduce_sum(\n",
    "        1 + latent_log_var \n",
    "        - tf.square(latent_mean) \n",
    "        - tf.exp(latent_log_var), 1)\n",
    "    return tf.reduce_mean(rec_loss + reg_loss)"
   ]
  },
  {
   "cell_type": "code",
   "execution_count": null,
   "metadata": {},
   "outputs": [],
   "source": [
    "def train(features):\n",
    "    if not os.path.exists(os.path.dirname(CKPT_DIR)):\n",
    "        os.makedirs(os.path.dirname(CKPT_DIR))\n",
    "\n",
    "    with graph.as_default():\n",
    "        features = train_input_fn(features)\n",
    "        latent_mean, latent_log_var = encoder_model(features)\n",
    "        sample = sampler_model(latent_mean, latent_log_var)\n",
    "        outputs = decoder_model(sample)\n",
    "        loss = vae_loss(features, outputs, latent_mean, latent_log_var)\n",
    "        optimizer = tf.train.AdamOptimizer(LEARNING_RATE).minimize(loss)\n",
    "        \n",
    "        org_image = tf.reshape(features, [-1, 28, 28, 1])\n",
    "        rec_image = tf.reshape(outputs, [-1, 28, 28, 1])\n",
    "        tf.summary.scalar('loss', loss)\n",
    "        tf.summary.image('org_image', org_image, max_outputs=1)            \n",
    "        tf.summary.image('rec_image', rec_image, max_outputs=1)\n",
    "        merged = tf.summary.merge_all()\n",
    "        saver = tf.train.Saver()\n",
    "        \n",
    "        with tf.Session() as sess:\n",
    "            summary_writer = tf.summary.FileWriter(CKPT_DIR, sess.graph)\n",
    "            sess.run(tf.global_variables_initializer())\n",
    "\n",
    "            for step in range(TRAINING_STEPS):\n",
    "                train_step = step + 1\n",
    "                train_sample = train_step * BATCH_SIZE\n",
    "                train_epoch = train_sample / 60000\n",
    "                sess.run(optimizer)\n",
    "                if (train_step % (TRAINING_STEPS/10) == 0):\n",
    "                    summary = sess.run(merged)\n",
    "                    summary_writer.add_summary(summary, step)\n",
    "                if (train_step == TRAINING_STEPS):\n",
    "                    saver.save(sess, CKPT_DIR + '/vae.ckpt')\n",
    "                    \n",
    "                progress_bar(\n",
    "                    train_step, \n",
    "                    TRAINING_STEPS, \n",
    "                    prefix='>>> Training', \n",
    "                    suffix='steps: %i/%i, samples: %i/%i, epochs: %i/%i' % (\n",
    "                        train_step, \n",
    "                        TRAINING_STEPS,\n",
    "                        train_sample, \n",
    "                        TRAINING_SAMPLES,\n",
    "                        train_epoch,\n",
    "                        TRAINING_EPOCHS))\n",
    "                \n",
    "            print('>>> Training Done')"
   ]
  },
  {
   "cell_type": "code",
   "execution_count": null,
   "metadata": {},
   "outputs": [],
   "source": [
    "(x_train, _), (x_test, _) = tf.keras.datasets.mnist.load_data()\n",
    "x_train = x_train / 255.\n",
    "x_test = x_test / 255.\n",
    "x_train = x_train.reshape([-1, IMAGE_DIM]).astype(np.float32)\n",
    "x_test = x_test.reshape([-1, IMAGE_DIM]).astype(np.float32)"
   ]
  },
  {
   "cell_type": "code",
   "execution_count": null,
   "metadata": {},
   "outputs": [],
   "source": [
    "train(x_train)"
   ]
  },
  {
   "cell_type": "code",
   "execution_count": null,
   "metadata": {},
   "outputs": [],
   "source": [
    "def random_25_image_plot(seed=None):\n",
    "    with graph.as_default():\n",
    "        np.random.seed(seed)\n",
    "        random_noise = np.random.normal(size=[25, LATENT_DIM]).astype(np.float32)\n",
    "        random_noise_input = train_input_fn(random_noise, batch_size=25)\n",
    "        random_gen = decoder_model(random_noise_input)\n",
    "\n",
    "        fig = plt.figure(figsize=(10, 10))\n",
    "        gs = gridspec.GridSpec(5, 5)\n",
    "        gs.update(wspace=0.05)\n",
    "\n",
    "        saver = tf.train.Saver()\n",
    "        with tf.Session() as sess:\n",
    "            saver.restore(sess, tf.train.latest_checkpoint(CKPT_DIR))\n",
    "            random_image = sess.run(random_gen)\n",
    "            random_image = random_image.reshape([-1, 28, 28])\n",
    "            for i in range(25):\n",
    "                plt.subplot(gs[i])\n",
    "                plt.axis('off')\n",
    "                plt.imshow(random_image[i], cmap = 'gray')"
   ]
  },
  {
   "cell_type": "code",
   "execution_count": null,
   "metadata": {},
   "outputs": [],
   "source": [
    "random_25_image_plot()"
   ]
  }
 ],
 "metadata": {
  "kernelspec": {
   "display_name": "Python 3",
   "language": "python",
   "name": "python3"
  },
  "language_info": {
   "codemirror_mode": {
    "name": "ipython",
    "version": 3
   },
   "file_extension": ".py",
   "mimetype": "text/x-python",
   "name": "python",
   "nbconvert_exporter": "python",
   "pygments_lexer": "ipython3",
   "version": "3.6.5"
  }
 },
 "nbformat": 4,
 "nbformat_minor": 2
}
