{
 "cells": [
  {
   "cell_type": "markdown",
   "metadata": {},
   "source": [
    "# 0-2. Estimator"
   ]
  },
  {
   "cell_type": "markdown",
   "metadata": {},
   "source": [
    "### Estimator란?\n",
    "  - 최근까지 텐서플로우 팀에서 적극적으로 지원하던 고수준 API (지향점)\n",
    "  - Slim 및 Keras 등의 Contrib의 좋은 라이브러리들을 융합 / 발전\n",
    "  - 실제 서빙 모델에 가장 가까우며, 분산처리 설정 등에 있어 용이\n",
    "  - tensorflow.dataset.Dataset, tensorflow.feature_column 등의 API는 모두 Estimator와 인테그레이팅 되기 위해 만들어진 API\n",
    "  \n",
    "### Estimator의 사용자 입장에서의 장점\n",
    "  - 커스터마이징이 용이\n",
    "  - 텐서플로우와 타이트하게 인테그레이팅 되어있음\n",
    "  - 사실상 현재까지 완성도 가장 높은 고수준 API\n",
    "  \n",
    "### Estimator의 사용자 입장에서의 단점\n",
    "  - 입문단계에서 이용하기가 어려운 편 (다양한 API를 함께 써야 함)\n",
    "  \n",
    "### Estimator을 쓰는 방법\n",
    "  1. premade estimator\n",
    "  2. custom estimator"
   ]
  },
  {
   "cell_type": "markdown",
   "metadata": {},
   "source": [
    "### Premade Estimator란?\n",
    "  - Estimator모듈 내에 빌트인 된 에스티메이터\n",
    "  - DNN기반 회귀/분류, Boosted Tree등 존재\n",
    "  - 이외에 공식 릴리즈되지는 않았지만, RNN, GAN등에 대해서도 contrib에 커스텀 에스티메이터 형태로 빌트인\n",
    "  - 이용자는 해당 에스티메이터 객체를 생성한 뒤, 메서드를 통해 간단하게 학습 및 평가, 추론 진행 가능\n",
    "  - 원하는 Premade Estimator가 없을 경우 직접 에스티메이터 모델 만들어야"
   ]
  },
  {
   "cell_type": "code",
   "execution_count": null,
   "metadata": {},
   "outputs": [],
   "source": [
    "import tensorflow as tf\n",
    "import numpy as np"
   ]
  },
  {
   "cell_type": "markdown",
   "metadata": {},
   "source": [
    "set_vervosity 설정하여 텐서플로우 로그를 받아보는 것을 추천\n",
    "\n",
    "estimator을 이용할 때 뿐 아니라, 네이티브 텐서플로우를 이용할 때도 마찬가지"
   ]
  },
  {
   "cell_type": "code",
   "execution_count": null,
   "metadata": {},
   "outputs": [],
   "source": [
    "tf.logging.set_verbosity(tf.logging.INFO)"
   ]
  },
  {
   "cell_type": "markdown",
   "metadata": {},
   "source": [
    "### 0-2-1. input_fn 정의\n",
    "  - tensorflow.data.Dataset을 이용해서 정의하는 방법\n",
    "  - numpy_input_fn, pandas_input_fn을 이용해서 정의하는 방법"
   ]
  },
  {
   "cell_type": "code",
   "execution_count": null,
   "metadata": {},
   "outputs": [],
   "source": [
    "def data_input_fn(features, labels, is_training, batch_size):\n",
    "    if is_training == True:\n",
    "        count = None\n",
    "    else:\n",
    "        count = 1\n",
    "    dataset = tf.data.Dataset.from_tensor_slices(({'image':features}, labels.astype(np.int32)))\n",
    "    return dataset.shuffle(features.shape[0]).repeat(count=count).batch(batch_size)"
   ]
  },
  {
   "cell_type": "markdown",
   "metadata": {},
   "source": [
    "### 0-2-2. feature_column 정의\n",
    "  - 데이터 피처의 특성에 맞는 column 인스턴스 정의"
   ]
  },
  {
   "cell_type": "code",
   "execution_count": null,
   "metadata": {},
   "outputs": [],
   "source": [
    "x_col = tf.feature_column.numeric_column(\"image\", shape=[28, 28])"
   ]
  },
  {
   "cell_type": "markdown",
   "metadata": {},
   "source": [
    "### 0-2-3. Premade estimator 객체 생성\n",
    "  - hidden_units : DNN내부 Dense layer의 output node들을 리스트 형태로 입력\n",
    "  - feature_columns : 학습에 이용할 컬럼 정의\n",
    "  - model_dir : 체크포인트를 저장 및 불러오기할 디렉토리 지정\n",
    "  - n_classes : 출력층 클래스 개수\n",
    "  - optimizer : 최적화 방법\n",
    "  - dropout : dropout 진행할 비율 설정\n",
    "  \n",
    "[batch_size, 28, 28] $\\rightarrow$ [batch_size, 784]\n",
    "\n",
    "$\\rightarrow$ Dense(784, 512) $\\rightarrow$ relu $\\rightarrow$ [batch_size, 512]\n",
    "\n",
    "$\\rightarrow$ Dropout $\\rightarrow$ Dense(512, 128) $\\rightarrow$ relu $\\rightarrow$ [batch_size, 128] \n",
    "\n",
    "$\\rightarrow$ Dropout $\\rightarrow$ Dense(128, 10) $\\rightarrow$ softmax $\\rightarrow$ [batch_size, 10]"
   ]
  },
  {
   "cell_type": "code",
   "execution_count": null,
   "metadata": {},
   "outputs": [],
   "source": [
    "estimator = tf.estimator.DNNClassifier(\n",
    "    hidden_units=[512, 128],\n",
    "    feature_columns=[x_col],\n",
    "    model_dir=\"../generated_output/MNIST/\",\n",
    "    n_classes=10,\n",
    "    optimizer=tf.train.AdamOptimizer(learning_rate=1e-3),\n",
    "    dropout=0.1,\n",
    ")"
   ]
  },
  {
   "cell_type": "markdown",
   "metadata": {},
   "source": [
    "### 0-2-4. 데이터 추출"
   ]
  },
  {
   "cell_type": "code",
   "execution_count": null,
   "metadata": {},
   "outputs": [],
   "source": [
    "(x_train, y_train), (x_test, y_test) = tf.keras.datasets.mnist.load_data()\n",
    "x_train = x_train / 255.\n",
    "x_test = x_test / 255."
   ]
  },
  {
   "cell_type": "markdown",
   "metadata": {},
   "source": [
    "### 0-2-5. 학습\n",
    "  - input_fn : 함수의 형태여야 하는 동시에 인풋을 받아야 하므로 람다 함수 이용\n",
    "  - hooks : tensorflow.train.SessionRunHook, SummarySaverHook등의 객체 이용, 트레이닝 중 특정 시점에 접근하여 훅 실행\n",
    "  - steps : 학습 반복할 횟수 (epoch 아님에 주의)\n",
    "  - max_steps : 학습 도달시 종료할 스텝\n",
    "  - saving_listners : tensorflow.train.CheckpointSaverListener객체 이용, 체크포인트 저장 전후 액션 지정"
   ]
  },
  {
   "cell_type": "code",
   "execution_count": null,
   "metadata": {},
   "outputs": [],
   "source": [
    "estimator.train(\n",
    "    input_fn=lambda:data_input_fn(x_train, y_train, is_training=True, batch_size=100), \n",
    "    hooks=None,\n",
    "    steps=3000,\n",
    "    max_steps=None,\n",
    "    saving_listeners=None\n",
    ")"
   ]
  },
  {
   "cell_type": "markdown",
   "metadata": {},
   "source": [
    "### 0-2-6. 평가\n",
    "  - 학습과정과 유사"
   ]
  },
  {
   "cell_type": "code",
   "execution_count": null,
   "metadata": {},
   "outputs": [],
   "source": [
    "eval_metric = estimator.evaluate(input_fn=lambda:data_input_fn(x_test, y_test, is_training=False, batch_size=128))\n",
    "print(eval_metric)"
   ]
  }
 ],
 "metadata": {
  "kernelspec": {
   "display_name": "Python 3",
   "language": "python",
   "name": "python3"
  },
  "language_info": {
   "codemirror_mode": {
    "name": "ipython",
    "version": 3
   },
   "file_extension": ".py",
   "mimetype": "text/x-python",
   "name": "python",
   "nbconvert_exporter": "python",
   "pygments_lexer": "ipython3",
   "version": "3.6.5"
  }
 },
 "nbformat": 4,
 "nbformat_minor": 2
}
