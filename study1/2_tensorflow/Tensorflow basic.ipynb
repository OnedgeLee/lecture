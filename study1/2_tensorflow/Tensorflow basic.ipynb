{
 "cells": [
  {
   "cell_type": "markdown",
   "metadata": {},
   "source": [
    "## 1. Tensor"
   ]
  },
  {
   "cell_type": "markdown",
   "metadata": {},
   "source": [
    " - 텐서플로우를 구성하는 가장 기초적인 데이터 단위\n",
    " - n 차원 배열의 집합 또는 n 차원 배열을 의미\n",
    " - rank: 텐서의 차원\n",
    " - 텐서의 표현은 `numpy` 배열을 사용"
   ]
  },
  {
   "cell_type": "markdown",
   "metadata": {},
   "source": [
    "`3. # a rank 0 tensor; a scalar with shape []\n",
    "[1., 2., 3.] # a rank 1 tensor; a vector with shape [3],\n",
    "[[1., 2., 3.], [4., 5., 6.]] # a rank 2 tensor; a matrix with shape [2, 3],\n",
    "[[[1., 2., 3.]], [[7., 8., 9.]]] # a rank 3 tensor with shape [2, 1, 3]`"
   ]
  },
  {
   "cell_type": "markdown",
   "metadata": {},
   "source": [
    "## 2. TensorFlow programming"
   ]
  },
  {
   "cell_type": "markdown",
   "metadata": {},
   "source": [
    " #### 1) 연산 그래프(computational graph) 정의\n",
    "  - 연산그래프는 텐서플로우 작업을 순차적으로 정의(표현)한 것으로 노드와 에지를 갖는 그래프 형태를 갖음 \n",
    "  - 연산그래프의 노드에는 텐서를 입력값으로 받아 연산하는 작업들이 위치 : `tf.Operation`\n",
    "  - 연산그래프의 에지에는 노드에 정의된 연산간에 주고 받는 데이터 들을 표현(텐서들이 그래프 상에서 흐름.) `tf.Tensor`"
   ]
  },
  {
   "cell_type": "markdown",
   "metadata": {},
   "source": [
    " #### 2) 연산 그래프를 실행\n",
    "  - 연산그래프의 실행은 `tf.Session` 객체,텐서플로우가 실행되는 환경을 만들어서 진행됨\n",
    "  - 연산그래프의 작업을 CPU, GPU에 배정하고 실행을 위한 메서드를 제공"
   ]
  },
  {
   "cell_type": "markdown",
   "metadata": {},
   "source": [
    "#### [default 그래프에 정의하기]\n",
    " - 3개의 노드(2개: constant op, 1개 matmul op)\n",
    " - 특정 그래프 객체에 명시적으로 연산을 정의하지 않는한 모든 연산은 전역 default 그래프에 정의됨 "
   ]
  },
  {
   "cell_type": "code",
   "execution_count": 1,
   "metadata": {},
   "outputs": [
    {
     "name": "stdout",
     "output_type": "stream",
     "text": [
      "True\n"
     ]
    }
   ],
   "source": [
    "import tensorflow as tf\n",
    "mat_a = tf.constant([[3.0, 3.0]], dtype=tf.float32)\n",
    "mat_b = tf.constant([[2.0],[2.0]], dtype=tf.float32)\n",
    "product = tf.matmul(mat_a, mat_b)\n",
    "\n",
    "print(tf.get_default_graph() is product.graph)"
   ]
  },
  {
   "cell_type": "markdown",
   "metadata": {},
   "source": [
    "#### [특정 그래프에 연산 정의하기]"
   ]
  },
  {
   "cell_type": "code",
   "execution_count": 2,
   "metadata": {},
   "outputs": [
    {
     "name": "stdout",
     "output_type": "stream",
     "text": [
      "True\n",
      "True\n"
     ]
    }
   ],
   "source": [
    "g_1 = tf.Graph()\n",
    "with g_1.as_default():\n",
    "    mat_a = tf.constant([[3.0, 3.0]], dtype=tf.float32)\n",
    "    mat_b = tf.constant([[2.0],[2.0]], dtype=tf.float32)\n",
    "    product = tf.matmul(mat_a, mat_b)\n",
    "    print(product.graph is g_1)\n",
    "\n",
    "g_2 = tf.Graph()\n",
    "with g_2.as_default():\n",
    "    mat_a = tf.constant([[3.0, 3.0]], dtype=tf.float32)\n",
    "    mat_b = tf.constant([[2.0],[2.0]], dtype=tf.float32)\n",
    "    product = tf.matmul(mat_a, mat_b)\n",
    "    print(product.graph is g_2)\n",
    "# with tf.Graph().as_default() as g_2:\n",
    "#     mat_a = tf.constant([[3.0, 3.0]], dtype=tf.float32)\n",
    "#     mat_b = tf.constant([[2.0],[2.0]], dtype=tf.float32)\n",
    "#     product = tf.matmul(mat_a, mat_b)\n",
    "#     print(product.graph is g_2)"
   ]
  },
  {
   "cell_type": "markdown",
   "metadata": {},
   "source": [
    "#### [그래프 실행하기]\n",
    " - session 객체의 run 매서드 호출\n",
    " - default 그래프에 정의한 3개의 작업이 실행 (graph=None)\n",
    " - 사용한 session 반환"
   ]
  },
  {
   "cell_type": "code",
   "execution_count": 3,
   "metadata": {},
   "outputs": [
    {
     "name": "stdout",
     "output_type": "stream",
     "text": [
      "[[12.]]\n"
     ]
    }
   ],
   "source": [
    "sess = tf.Session(graph=g_2)\n",
    "print(sess.run(product))\n",
    "sess.close()"
   ]
  },
  {
   "cell_type": "markdown",
   "metadata": {},
   "source": [
    " - session 컨텍스트 매니저 활용"
   ]
  },
  {
   "cell_type": "code",
   "execution_count": 4,
   "metadata": {},
   "outputs": [
    {
     "name": "stdout",
     "output_type": "stream",
     "text": [
      "[[12.]]\n"
     ]
    }
   ],
   "source": [
    "with tf.Session(graph=g_2) as sess:\n",
    "    print(sess.run(product))"
   ]
  },
  {
   "cell_type": "markdown",
   "metadata": {},
   "source": [
    " - 연산 자원 할당"
   ]
  },
  {
   "cell_type": "code",
   "execution_count": 5,
   "metadata": {},
   "outputs": [
    {
     "name": "stdout",
     "output_type": "stream",
     "text": [
      "[[12.]]\n"
     ]
    }
   ],
   "source": [
    "with tf.Session(graph=g_2) as sess:\n",
    "    with tf.device('/gpu:0'):\n",
    "        print(sess.run(product))"
   ]
  },
  {
   "cell_type": "markdown",
   "metadata": {},
   "source": [
    "#### [인터렉티브한 이용]\n",
    "  - Tensor.eval(), Operation.run() 메서드 활용"
   ]
  },
  {
   "cell_type": "code",
   "execution_count": 6,
   "metadata": {},
   "outputs": [
    {
     "name": "stdout",
     "output_type": "stream",
     "text": [
      "[-2. -1.]\n"
     ]
    }
   ],
   "source": [
    "import tensorflow as tf\n",
    "sess = tf.InteractiveSession()\n",
    "x = tf.Variable([1.0,2.0])\n",
    "a = tf.constant([3.0,3.0])\n",
    "x.initializer.run()\n",
    "sub = tf.subtract(x,a)\n",
    "print(sub.eval())\n",
    "sess.close()"
   ]
  },
  {
   "cell_type": "markdown",
   "metadata": {},
   "source": [
    "## 3. TensorFlow tf.constant, tf.Variable"
   ]
  },
  {
   "cell_type": "markdown",
   "metadata": {},
   "source": [
    " - 연산 그래프에 정의된 연산을 수행하기 위해 필요한 데이터 값을 입력 위한 수단 "
   ]
  },
  {
   "cell_type": "markdown",
   "metadata": {},
   "source": [
    " ### 3-1. tf.constant\n",
    " - 상수 텐서를 생성하는 작업으로, `tf.constant` 연산 정의시 제공한 초기값을 갖는 텐서를 반환"
   ]
  },
  {
   "cell_type": "markdown",
   "metadata": {},
   "source": [
    " ### 3-2. tf.Variable\n",
    " - 텐서플로우 프로그램에서 연산의 결과가 공유되고, 상태를 유지해야하는 경우 사용 \n",
    "   - ex) 학습을 진행하면서 모델의 파라미터가 업데이트 되야하므로 모델의 파라미터를 변수로 표현\n",
    " - 변수 연산을 정의하기 위해 텐서를 초기값으로 부여, 초기값으로 제공한 텐서로 변수 type과 shape이 결정됨\n",
    " - 변수 연산이 정의되면 타입과 변수 type과 shape은 고정됨, 변수 값인 텐서를 assign 메서드로 변경\n",
    " - 연산을 실행하기 전, 그래프 상에 정의된 변수를 명시적으로 초기화하는 작업 필요\n",
    "   - 초기화 연산을 실행(`tf.global_variable_initializer()`), 변수 값이 저장된 파일에서 복구, `assign` 메서드 실행"
   ]
  },
  {
   "cell_type": "code",
   "execution_count": 7,
   "metadata": {},
   "outputs": [
    {
     "name": "stdout",
     "output_type": "stream",
     "text": [
      "0\n",
      "1\n",
      "2\n",
      "3\n"
     ]
    }
   ],
   "source": [
    "state = tf.Variable(0, name=\"counter\")\n",
    "one = tf.constant(1)\n",
    "new_value = tf.add(state, one)\n",
    "update = tf.assign(state, new_value)\n",
    "init_op = tf.global_variables_initializer()\n",
    "with tf.Session() as sess:\n",
    "    sess.run(init_op)\n",
    "    print(sess.run(state))\n",
    "    for _ in range(3):\n",
    "        sess.run(update)\n",
    "        print(sess.run(state))"
   ]
  },
  {
   "cell_type": "markdown",
   "metadata": {},
   "source": [
    " #### [변수의 저장과 복구]\n",
    "  - 변수를 이름과 텐서 값을 매핑해놓은 바이너리 파일(`.ckpt`)에 저장 가능\n",
    "  - `tf.train.Saver()` 객체를 이용하여 그래프 전체 변수와 지정된 리스트 변수를 저장하고 복구\n",
    "  - 저장될 때 사용되는 변수 명은 `Variable.name`이 기본 값\n",
    "  - `tf.train.Saver()` 객체에 딕셔너리를 저장할 이름(key), 저장할 값(value)로 전달하여 저장시 사용할 이름을 변경하거나 변수를 선택적으로 저장 가능\n",
    "    - ex) `tf.train.Saver({\"saved_v\":v})`\n",
    "  - 전체 변수를 파일에서 복구 시 변수 초기화가 필요 없음"
   ]
  },
  {
   "cell_type": "code",
   "execution_count": 8,
   "metadata": {},
   "outputs": [
    {
     "name": "stdout",
     "output_type": "stream",
     "text": [
      "Model saved in path: ./tmp/ckpt/model.ckpt\n",
      "tensor_name:  Variable\n",
      "[1. 2.]\n",
      "tensor_name:  counter\n",
      "0\n",
      "tensor_name:  v1\n",
      "[1. 1. 1.]\n",
      "tensor_name:  v2\n",
      "[-1. -1. -1.]\n"
     ]
    }
   ],
   "source": [
    "# Create some variables.\n",
    "import tensorflow as tf\n",
    "import os, shutil\n",
    "\n",
    "# with tf.variable_scope(\"variable\", reuse=tf.AUTO_REUSE):\n",
    "#     v1 = tf.get_variable(\"v1\", shape=[3], initializer = tf.zeros_initializer)\n",
    "#     v2 = tf.get_variable(\"v2\", shape=[5], initializer = tf.zeros_initializer)\n",
    "\n",
    "v1 = tf.Variable(tf.zeros([3]), name=\"v1\")\n",
    "v2 = tf.Variable(tf.zeros([3]), name=\"v2\")\n",
    "    \n",
    "inc_v1 = v1.assign(v1+1)\n",
    "dec_v2 = v2.assign(v2-1)\n",
    "\n",
    "# Add an op to initialize the variables.\n",
    "init_op = tf.global_variables_initializer()\n",
    "\n",
    "# Add ops to save and restore all the variables.\n",
    "saver = tf.train.Saver()\n",
    "\n",
    "# Later, launch the model, initialize the variables, do some work, and save the\n",
    "# variables to disk.\n",
    "with tf.Session() as sess:\n",
    "  sess.run(init_op)\n",
    "  # Do some work with the model.\n",
    "  inc_v1.op.run()\n",
    "  dec_v2.op.run()\n",
    "  # Save the variables to disk.\n",
    "  shutil.rmtree(\"./tmp/ckpt\")\n",
    "  os.mkdir(\"./tmp/ckpt\")\n",
    "  save_path = saver.save(sess, \"./tmp/ckpt/model.ckpt\")\n",
    "  print(\"Model saved in path: %s\" % save_path)\n",
    "    \n",
    "    \n",
    "from tensorflow.python.tools import inspect_checkpoint as chkp\n",
    "chkp.print_tensors_in_checkpoint_file(save_path, tensor_name='',  all_tensors=True)"
   ]
  },
  {
   "cell_type": "code",
   "execution_count": 9,
   "metadata": {},
   "outputs": [
    {
     "name": "stdout",
     "output_type": "stream",
     "text": [
      "INFO:tensorflow:Restoring parameters from ./tmp/ckpt/model.ckpt\n",
      "Model restored.\n",
      "v1 : [1. 1. 1.]\n",
      "v2 : [-1. -1. -1.]\n"
     ]
    }
   ],
   "source": [
    "tf.reset_default_graph()\n",
    "\n",
    "# Create some variables.\n",
    "# with tf.variable_scope(\"variable\", reuse=tf.AUTO_REUSE):\n",
    "#     v1 = tf.get_variable(\"v1\", shape=[3])\n",
    "#     v2 = tf.get_variable(\"v2\", shape=[5])\n",
    "v1 = tf.Variable(tf.zeros([3]), name=\"v1\")\n",
    "v2 = tf.Variable(tf.zeros([3]), name=\"v2\")\n",
    "# Add ops to save and restore all the variables.\n",
    "saver = tf.train.Saver()\n",
    "\n",
    "# Later, launch the model, use the saver to restore variables from disk, and\n",
    "# do some work with the model.\n",
    "with tf.Session() as sess:\n",
    "  # Restore variables from disk.\n",
    "  saver.restore(sess, \"./tmp/ckpt/model.ckpt\")\n",
    "  print(\"Model restored.\")\n",
    "  # Check the values of the variables\n",
    "  print(\"v1 : %s\" % v1.eval())\n",
    "  print(\"v2 : %s\" % v2.eval())"
   ]
  },
  {
   "cell_type": "markdown",
   "metadata": {},
   "source": [
    " ### - tf.get_variable()\n",
    "  - `tf.Variable`과 같이 변수 정의하는 다른 방법으로 생성된 변수를 가져오거나 존재하지 않을 시 새롭게 생성\n",
    "  - `tf.variable_scope`가 `tf.get_variable`로 정의된 변수의 네임스페이스를 관리\n",
    "     - ex) 매우 깊은 층을 갖는 심층심경망 네트워크 구현시 각 층마다 변수를 정의하는 데 따른 불편함을 해결 \n",
    "     - 코드 모듈화를 더 쉽게할 수 있다는 이점"
   ]
  },
  {
   "cell_type": "code",
   "execution_count": 16,
   "metadata": {},
   "outputs": [],
   "source": [
    "import tensorflow as tf\n",
    "weight1 = tf.Variable(tf.random_normal([2, 2]), name='weight1')\n",
    "bias1 = tf.Variable(tf.random_normal([2]), name='bias1')\n",
    "weight2 = tf.Variable(tf.random_normal([2, 2]), name='weight2')\n",
    "bias2 = tf.Variable(tf.random_normal([2]), name='bias2')"
   ]
  },
  {
   "cell_type": "code",
   "execution_count": 17,
   "metadata": {},
   "outputs": [],
   "source": [
    "import tensorflow as tf\n",
    "with tf.variable_scope(\"layer1\", reuse=tf.AUTO_REUSE):\n",
    "    weight = tf.get_variable(\"weight\", shape=[2,2], initializer = tf.random_normal_initializer)\n",
    "    bias = tf.get_variable(\"bias\", shape=[2], initializer = tf.random_normal_initializer)"
   ]
  },
  {
   "cell_type": "markdown",
   "metadata": {},
   "source": [
    "## 4. Fetches"
   ]
  },
  {
   "cell_type": "markdown",
   "metadata": {},
   "source": [
    " - 그래프 상에 정의된 작업 하나 이상의 작업 실행 결과 가져오기"
   ]
  },
  {
   "cell_type": "code",
   "execution_count": 12,
   "metadata": {},
   "outputs": [
    {
     "name": "stdout",
     "output_type": "stream",
     "text": [
      "[array([21.], dtype=float32), array([7.], dtype=float32)]\n"
     ]
    }
   ],
   "source": [
    "import tensorflow as tf\n",
    "input1 = tf.constant([3.0])\n",
    "input2 = tf.constant([2.0])\n",
    "input3 = tf.constant([5.0])\n",
    "intermed = tf.add(input2, input3)\n",
    "mul = tf.multiply(input1, intermed)\n",
    "\n",
    "with tf.Session() as sess:\n",
    "  result = sess.run([mul, intermed])\n",
    "  print(result)"
   ]
  },
  {
   "cell_type": "markdown",
   "metadata": {},
   "source": [
    "## 5. Feed"
   ]
  },
  {
   "cell_type": "markdown",
   "metadata": {},
   "source": [
    " - 실행 시점에 정의된 연산 그래프 상으로 텐서 값을 제공하는 매커니즘\n",
    " - tf.placeholder를 이용 텐서(데이터)가 연산 그래프에 입력될 입력 공간을 확보"
   ]
  },
  {
   "cell_type": "code",
   "execution_count": 13,
   "metadata": {},
   "outputs": [
    {
     "name": "stdout",
     "output_type": "stream",
     "text": [
      "[[1.312341   1.3715625  1.0564284  0.8542057 ]\n",
      " [0.6672931  0.9368535  0.673175   0.6187724 ]\n",
      " [0.9685603  1.0968544  0.87165964 0.69370997]\n",
      " [0.45783332 0.6832585  0.50909007 0.5343857 ]]\n"
     ]
    }
   ],
   "source": [
    "import numpy as np\n",
    "x1 = tf.placeholder(tf.float32, shape=(4, 4), name='input1')\n",
    "x2 = tf.placeholder(tf.float32, shape=(4, 4), name='input2')\n",
    "y = tf.matmul(x1, x2)\n",
    "\n",
    "with tf.Session() as sess:\n",
    "#   print(sess.run(y))  # ERROR: will fail because x was not fed.\n",
    "  arr = np.random.rand(4, 4)\n",
    "  print(sess.run(y, feed_dict={x1: arr, x2:arr}))"
   ]
  },
  {
   "cell_type": "markdown",
   "metadata": {},
   "source": [
    "## 6. Visualization : Tensorboard"
   ]
  },
  {
   "cell_type": "markdown",
   "metadata": {},
   "source": [
    " - 텐서플로우가 제공하는 텐서보드를 활용하여 연산 그래프를 시각화\n",
    " - 그래프 실행 후 연산 결과 시각화\n",
    " - `tf.summary.FileWriter()` 객체에 연산 그래프와 연산 결과 값을 저장 후 텐서보드로 시각화   \n",
    " - 벡터: `tf.summary.histogram()`, 스칼라: `tf.summary.scalar()`로 시각화할 연산 값 설정\n",
    " - 텐서보드 실행 => 터미널에서 `tensorboard --logdir=\"./logs/xor_log\"` 입력"
   ]
  },
  {
   "cell_type": "code",
   "execution_count": 14,
   "metadata": {},
   "outputs": [
    {
     "name": "stdout",
     "output_type": "stream",
     "text": [
      "0 0.75998664 [array([[-0.92532176, -0.7545306 ],\n",
      "       [-0.91895175,  1.1321924 ]], dtype=float32), array([[-0.15884547],\n",
      "       [ 1.5214102 ]], dtype=float32)]\n",
      "100 0.65730983 [array([[-2.2435763 ,  0.27785993],\n",
      "       [-2.152693  ,  0.633134  ]], dtype=float32), array([[-1.0388857],\n",
      "       [ 1.2128441]], dtype=float32)]\n",
      "200 0.5813483 [array([[-3.669335 ,  0.8782953],\n",
      "       [-3.5985334,  0.9454717]], dtype=float32), array([[-2.1990676],\n",
      "       [ 1.2871362]], dtype=float32)]\n",
      "300 0.53441 [array([[-4.7195997,  1.3399824],\n",
      "       [-4.65416  ,  1.3789308]], dtype=float32), array([[-3.1140447],\n",
      "       [ 1.3111069]], dtype=float32)]\n",
      "400 0.5122283 [array([[-5.462635 ,  1.666335 ],\n",
      "       [-5.3988814,  1.7013298]], dtype=float32), array([[-3.7696261],\n",
      "       [ 1.3129119]], dtype=float32)]\n",
      "500 0.5008205 [array([[-6.0242634,  1.8972994],\n",
      "       [-5.961164 ,  1.9315394]], dtype=float32), array([[-4.2636595],\n",
      "       [ 1.306751 ]], dtype=float32)]\n",
      "600 0.49426562 [array([[-6.4735355,  2.0699885],\n",
      "       [-6.4107265,  2.1041644]], dtype=float32), array([[-4.6563635],\n",
      "       [ 1.297956 ]], dtype=float32)]\n",
      "700 0.49015498 [array([[-6.8478627,  2.2057261],\n",
      "       [-6.785187 ,  2.2400281]], dtype=float32), array([[-4.9814706],\n",
      "       [ 1.2885368]], dtype=float32)]\n",
      "800 0.48740155 [array([[-7.1690793,  2.3166788],\n",
      "       [-7.1064625,  2.351163 ]], dtype=float32), array([[-5.258865 ],\n",
      "       [ 1.2792469]], dtype=float32)]\n",
      "900 0.48546192 [array([[-7.45086  ,  2.4101558],\n",
      "       [-7.3882704,  2.4448338]], dtype=float32), array([[-5.5010204],\n",
      "       [ 1.2703562]], dtype=float32)]\n",
      "1000 0.48404062 [array([[-7.702294 ,  2.4907937],\n",
      "       [-7.6397095,  2.5256634]], dtype=float32), array([[-5.716208 ],\n",
      "       [ 1.2619421]], dtype=float32)]\n",
      "1100 0.48296565 [array([[-7.929701 ,  2.561672 ],\n",
      "       [-7.8671136,  2.5967228]], dtype=float32), array([[-5.910157 ],\n",
      "       [ 1.2540063]], dtype=float32)]\n",
      "1200 0.48213148 [array([[-8.137643 ,  2.624928 ],\n",
      "       [-8.075051 ,  2.6601493]], dtype=float32), array([[-6.0869884],\n",
      "       [ 1.2465192]], dtype=float32)]\n",
      "1300 0.4814701 [array([[-8.329529 ,  2.682091 ],\n",
      "       [-8.266924 ,  2.7174735]], dtype=float32), array([[-6.2497535],\n",
      "       [ 1.239442 ]], dtype=float32)]\n",
      "1400 0.48093623 [array([[-8.50795  ,  2.73429  ],\n",
      "       [-8.445336 ,  2.7698255]], dtype=float32), array([[-6.40078  ],\n",
      "       [ 1.2327337]], dtype=float32)]\n",
      "1500 0.48049867 [array([[-8.674944 ,  2.7823794],\n",
      "       [-8.612315 ,  2.8180568]], dtype=float32), array([[-6.5418754],\n",
      "       [ 1.226357 ]], dtype=float32)]\n",
      "1600 0.4801352 [array([[-8.832107 ,  2.8270156],\n",
      "       [-8.769466 ,  2.8628259]], dtype=float32), array([[-6.6744647],\n",
      "       [ 1.2202767]], dtype=float32)]\n",
      "1700 0.47982976 [array([[-8.98076  ,  2.8687172],\n",
      "       [-8.918109 ,  2.904653 ]], dtype=float32), array([[-6.799703 ],\n",
      "       [ 1.2144623]], dtype=float32)]\n",
      "1800 0.47957057 [array([[-9.12197  ,  2.9078972],\n",
      "       [-9.059306 ,  2.9439523]], dtype=float32), array([[-6.9185333],\n",
      "       [ 1.2088861]], dtype=float32)]\n",
      "1900 0.4793485 [array([[-9.256618 ,  2.9448943],\n",
      "       [-9.193946 ,  2.9810636]], dtype=float32), array([[-7.0317316],\n",
      "       [ 1.2035248]], dtype=float32)]\n",
      "2000 0.47915688 [array([[-9.385447 ,  2.9799838],\n",
      "       [-9.322765 ,  3.0162616]], dtype=float32), array([[-7.139946 ],\n",
      "       [ 1.1983566]], dtype=float32)]\n",
      "2100 0.47899026 [array([[-9.509083 ,  3.0133932],\n",
      "       [-9.446395 ,  3.0497751]], dtype=float32), array([[-7.2437286],\n",
      "       [ 1.1933634]], dtype=float32)]\n",
      "2200 0.47884446 [array([[-9.628073 ,  3.0453176],\n",
      "       [-9.565374 ,  3.0817966]], dtype=float32), array([[-7.3435454],\n",
      "       [ 1.1885285]], dtype=float32)]\n",
      "2300 0.47871622 [array([[-9.742871 ,  3.0759149],\n",
      "       [-9.680165 ,  3.1124902]], dtype=float32), array([[-7.439797 ],\n",
      "       [ 1.1838384]], dtype=float32)]\n",
      "2400 0.4786027 [array([[-9.85388  ,  3.10533  ],\n",
      "       [-9.791164 ,  3.1419945]], dtype=float32), array([[-7.5328293],\n",
      "       [ 1.1792791]], dtype=float32)]\n",
      "2500 0.47850186 [array([[-9.961443 ,  3.133676 ],\n",
      "       [-9.898721 ,  3.1704285]], dtype=float32), array([[-7.6229453],\n",
      "       [ 1.17484  ]], dtype=float32)]\n",
      "2600 0.47841176 [array([[-10.065876 ,   3.1610599],\n",
      "       [-10.003143 ,   3.1979005]], dtype=float32), array([[-7.710407 ],\n",
      "       [ 1.1705103]], dtype=float32)]\n",
      "2700 0.47833103 [array([[-10.167439 ,   3.1875749],\n",
      "       [-10.104701 ,   3.2244978]], dtype=float32), array([[-7.7954464],\n",
      "       [ 1.1662809]], dtype=float32)]\n",
      "2800 0.4782584 [array([[-10.2663765,   3.2132943],\n",
      "       [-10.203631 ,   3.2502964]], dtype=float32), array([[-7.878271],\n",
      "       [ 1.162144]], dtype=float32)]\n",
      "2900 0.47819287 [array([[-10.362901 ,   3.2382889],\n",
      "       [-10.300144 ,   3.275367 ]], dtype=float32), array([[-7.959062 ],\n",
      "       [ 1.1580917]], dtype=float32)]\n",
      "3000 0.4781335 [array([[-10.457197,   3.26262 ],\n",
      "       [-10.394435,   3.299772]], dtype=float32), array([[-8.037984 ],\n",
      "       [ 1.1541182]], dtype=float32)]\n",
      "3100 0.47807962 [array([[-10.549441,   3.286341],\n",
      "       [-10.48667 ,   3.323565]], dtype=float32), array([[-8.115179],\n",
      "       [ 1.150217]], dtype=float32)]\n",
      "3200 0.4780305 [array([[-10.639784 ,   3.3095012],\n",
      "       [-10.577005 ,   3.3467956]], dtype=float32), array([[-8.190782 ],\n",
      "       [ 1.1463829]], dtype=float32)]\n",
      "3300 0.4779858 [array([[-10.728362 ,   3.332148 ],\n",
      "       [-10.665578 ,   3.3695142]], dtype=float32), array([[-8.26491  ],\n",
      "       [ 1.1426098]], dtype=float32)]\n",
      "3400 0.4779448 [array([[-10.815303 ,   3.354325 ],\n",
      "       [-10.752512 ,   3.3917575]], dtype=float32), array([[-8.337668 ],\n",
      "       [ 1.1388929]], dtype=float32)]\n",
      "3500 0.47790718 [array([[-10.900719 ,   3.3760586],\n",
      "       [-10.837925 ,   3.4135556]], dtype=float32), array([[-8.409157 ],\n",
      "       [ 1.1352289]], dtype=float32)]\n",
      "3600 0.47787267 [array([[-10.984718 ,   3.397382 ],\n",
      "       [-10.921917 ,   3.4349434]], dtype=float32), array([[-8.479463 ],\n",
      "       [ 1.1316134]], dtype=float32)]\n",
      "3700 0.47784084 [array([[-11.067389 ,   3.4183245],\n",
      "       [-11.004584 ,   3.4559488]], dtype=float32), array([[-8.548665 ],\n",
      "       [ 1.1280432]], dtype=float32)]\n",
      "3800 0.47781157 [array([[-11.148822 ,   3.4389122],\n",
      "       [-11.086015 ,   3.4765983]], dtype=float32), array([[-8.61684  ],\n",
      "       [ 1.1245158]], dtype=float32)]\n",
      "3900 0.47778448 [array([[-11.2290945,   3.4591703],\n",
      "       [-11.166284 ,   3.4969156]], dtype=float32), array([[-8.684053 ],\n",
      "       [ 1.1210278]], dtype=float32)]\n",
      "4000 0.47775945 [array([[-11.30828  ,   3.4791193],\n",
      "       [-11.245467 ,   3.5169234]], dtype=float32), array([[-8.750369 ],\n",
      "       [ 1.1175754]], dtype=float32)]\n",
      "4100 0.47773623 [array([[-11.386449 ,   3.4987817],\n",
      "       [-11.323633 ,   3.5366428]], dtype=float32), array([[-8.815845 ],\n",
      "       [ 1.1141572]], dtype=float32)]\n",
      "4200 0.47771472 [array([[-11.463658 ,   3.518175 ],\n",
      "       [-11.40084  ,   3.5560894]], dtype=float32), array([[-8.880529 ],\n",
      "       [ 1.1107717]], dtype=float32)]\n",
      "4300 0.47769478 [array([[-11.5399685,   3.5373144],\n",
      "       [-11.477149 ,   3.5752845]], dtype=float32), array([[-8.944473 ],\n",
      "       [ 1.1074135]], dtype=float32)]\n",
      "4400 0.47767618 [array([[-11.615432 ,   3.556221 ],\n",
      "       [-11.55261  ,   3.5942435]], dtype=float32), array([[-9.007724 ],\n",
      "       [ 1.1040832]], dtype=float32)]\n",
      "4500 0.4776588 [array([[-11.6901   ,   3.5749   ],\n",
      "       [-11.6272745,   3.6129766]], dtype=float32), array([[-9.070319 ],\n",
      "       [ 1.1007782]], dtype=float32)]\n",
      "4600 0.47764277 [array([[-11.764014 ,   3.5933735],\n",
      "       [-11.701189 ,   3.6315036]], dtype=float32), array([[-9.132298 ],\n",
      "       [ 1.0974973]], dtype=float32)]\n",
      "4700 0.47762766 [array([[-11.837218 ,   3.6116521],\n",
      "       [-11.774392 ,   3.6498337]], dtype=float32), array([[-9.193699 ],\n",
      "       [ 1.0942358]], dtype=float32)]\n",
      "4800 0.47761366 [array([[-11.909755 ,   3.6297443],\n",
      "       [-11.846925 ,   3.6679783]], dtype=float32), array([[-9.254555 ],\n",
      "       [ 1.0909969]], dtype=float32)]\n",
      "4900 0.47760046 [array([[-11.981657 ,   3.6476629],\n",
      "       [-11.918825 ,   3.6859472]], dtype=float32), array([[-9.314894 ],\n",
      "       [ 1.0877753]], dtype=float32)]\n",
      "5000 0.47758812 [array([[-12.05296 ,   3.665417],\n",
      "       [-11.990128,   3.703751]], dtype=float32), array([[-9.374747 ],\n",
      "       [ 1.0845705]], dtype=float32)]\n",
      "5100 0.4775767 [array([[-12.123693 ,   3.683015 ],\n",
      "       [-12.060861 ,   3.7213988]], dtype=float32), array([[-9.434145 ],\n",
      "       [ 1.0813837]], dtype=float32)]\n"
     ]
    },
    {
     "name": "stdout",
     "output_type": "stream",
     "text": [
      "5200 0.47756594 [array([[-12.193892 ,   3.7004623],\n",
      "       [-12.131059 ,   3.738895 ]], dtype=float32), array([[-9.493104 ],\n",
      "       [ 1.0782113]], dtype=float32)]\n",
      "5300 0.47755575 [array([[-12.263578 ,   3.7177756],\n",
      "       [-12.200745 ,   3.7562573]], dtype=float32), array([[-9.551656],\n",
      "       [ 1.07505 ]], dtype=float32)]\n",
      "5400 0.4775463 [array([[-12.332784 ,   3.7349694],\n",
      "       [-12.269949 ,   3.7734983]], dtype=float32), array([[-9.609821 ],\n",
      "       [ 1.0719006]], dtype=float32)]\n",
      "5500 0.47753736 [array([[-12.401532 ,   3.7520208],\n",
      "       [-12.3386965,   3.7905967]], dtype=float32), array([[-9.667621 ],\n",
      "       [ 1.0687654]], dtype=float32)]\n",
      "5600 0.47752902 [array([[-12.469842 ,   3.7689686],\n",
      "       [-12.407004 ,   3.80759  ]], dtype=float32), array([[-9.725072],\n",
      "       [ 1.065641]], dtype=float32)]\n",
      "5700 0.47752118 [array([[-12.53774  ,   3.7858033],\n",
      "       [-12.4749   ,   3.82447  ]], dtype=float32), array([[-9.782194 ],\n",
      "       [ 1.0625241]], dtype=float32)]\n",
      "5800 0.47751373 [array([[-12.605244 ,   3.8025267],\n",
      "       [-12.542403 ,   3.8412375]], dtype=float32), array([[-9.839004 ],\n",
      "       [ 1.0594168]], dtype=float32)]\n",
      "5900 0.47750685 [array([[-12.672371 ,   3.8191545],\n",
      "       [-12.60953  ,   3.8579104]], dtype=float32), array([[-9.895517 ],\n",
      "       [ 1.0563174]], dtype=float32)]\n",
      "6000 0.47750023 [array([[-12.739144 ,   3.8356946],\n",
      "       [-12.676302 ,   3.8744934]], dtype=float32), array([[-9.951751 ],\n",
      "       [ 1.0532265]], dtype=float32)]\n",
      "6100 0.47749412 [array([[-12.805574 ,   3.8521116],\n",
      "       [-12.742731 ,   3.8909514]], dtype=float32), array([[-10.007721 ],\n",
      "       [  1.0501457]], dtype=float32)]\n",
      "6200 0.47748828 [array([[-12.871686 ,   3.8685045],\n",
      "       [-12.80884  ,   3.9073884]], dtype=float32), array([[-10.06343  ],\n",
      "       [  1.0470685]], dtype=float32)]\n",
      "6300 0.47748277 [array([[-12.937484 ,   3.8847697],\n",
      "       [-12.874637 ,   3.923696 ]], dtype=float32), array([[-10.118909],\n",
      "       [  1.044   ]], dtype=float32)]\n",
      "6400 0.47747764 [array([[-13.002988 ,   3.9009418],\n",
      "       [-12.940139 ,   3.9399087]], dtype=float32), array([[-10.17415  ],\n",
      "       [  1.0409371]], dtype=float32)]\n",
      "6500 0.47747278 [array([[-13.068212 ,   3.9171104],\n",
      "       [-13.0053625,   3.9561207]], dtype=float32), array([[-10.229179 ],\n",
      "       [  1.0378658]], dtype=float32)]\n",
      "6600 0.47746813 [array([[-13.1331625,   3.9331691],\n",
      "       [-13.0703125,   3.9722183]], dtype=float32), array([[-10.284003 ],\n",
      "       [  1.0348005]], dtype=float32)]\n",
      "6700 0.47746378 [array([[-13.197857 ,   3.9491174],\n",
      "       [-13.135006 ,   3.9882045]], dtype=float32), array([[-10.33863  ],\n",
      "       [  1.0317422]], dtype=float32)]\n",
      "6800 0.47745967 [array([[-13.262311 ,   3.965049 ],\n",
      "       [-13.199459 ,   4.0041766]], dtype=float32), array([[-10.393069 ],\n",
      "       [  1.0286825]], dtype=float32)]\n",
      "6900 0.4774558 [array([[-13.326522 ,   3.9809644],\n",
      "       [-13.26367  ,   4.020134 ]], dtype=float32), array([[-10.447332 ],\n",
      "       [  1.0256226]], dtype=float32)]\n",
      "7000 0.47745213 [array([[-13.3905115,   3.9967833],\n",
      "       [-13.327659 ,   4.035994 ]], dtype=float32), array([[-10.501429 ],\n",
      "       [  1.0225691]], dtype=float32)]\n",
      "7100 0.47744864 [array([[-13.454288,   4.012508],\n",
      "       [-13.391434,   4.051756]], dtype=float32), array([[-10.55536  ],\n",
      "       [  1.0195198]], dtype=float32)]\n",
      "7200 0.47744536 [array([[-13.517857 ,   4.028142 ],\n",
      "       [-13.455002 ,   4.0674243]], dtype=float32), array([[-10.609137 ],\n",
      "       [  1.0164737]], dtype=float32)]\n",
      "7300 0.47744235 [array([[-13.581224 ,   4.043798 ],\n",
      "       [-13.518369 ,   4.0831165]], dtype=float32), array([[-10.662773 ],\n",
      "       [  1.0134248]], dtype=float32)]\n",
      "7400 0.4774393 [array([[-13.644403 ,   4.0594807],\n",
      "       [-13.581548 ,   4.098839 ]], dtype=float32), array([[-10.716263 ],\n",
      "       [  1.0103686]], dtype=float32)]\n",
      "7500 0.47743654 [array([[-13.7073965,   4.0750866],\n",
      "       [-13.64454  ,   4.1144834]], dtype=float32), array([[-10.769622 ],\n",
      "       [  1.0073181]], dtype=float32)]\n",
      "7600 0.47743395 [array([[-13.770214,   4.090614],\n",
      "       [-13.707356,   4.130049]], dtype=float32), array([[-10.822862 ],\n",
      "       [  1.0042702]], dtype=float32)]\n",
      "7700 0.47743145 [array([[-13.832865 ,   4.1060634],\n",
      "       [-13.770007 ,   4.1455364]], dtype=float32), array([[-10.87597  ],\n",
      "       [  1.0012244]], dtype=float32)]\n",
      "7800 0.47742912 [array([[-13.895359,   4.121442],\n",
      "       [-13.832501,   4.160946]], dtype=float32), array([[-10.928964 ],\n",
      "       [  0.9981792]], dtype=float32)]\n",
      "7900 0.4774269 [array([[-13.957688 ,   4.136749 ],\n",
      "       [-13.894831 ,   4.1762843]], dtype=float32), array([[-10.98185  ],\n",
      "       [  0.9951344]], dtype=float32)]\n",
      "8000 0.4774248 [array([[-14.019873 ,   4.151987 ],\n",
      "       [-13.957015 ,   4.1915526]], dtype=float32), array([[-11.034631 ],\n",
      "       [  0.9920912]], dtype=float32)]\n",
      "8100 0.47742283 [array([[-14.08191  ,   4.167376 ],\n",
      "       [-14.0190525,   4.2069817]], dtype=float32), array([[-11.087312  ],\n",
      "       [  0.98901594]], dtype=float32)]\n",
      "8200 0.4774209 [array([[-14.143813,   4.182801],\n",
      "       [-14.080954,   4.222449]], dtype=float32), array([[-11.139895  ],\n",
      "       [  0.98592305]], dtype=float32)]\n",
      "8300 0.47741908 [array([[-14.205574 ,   4.198164 ],\n",
      "       [-14.1427145,   4.237849 ]], dtype=float32), array([[-11.192388 ],\n",
      "       [  0.9828322]], dtype=float32)]\n",
      "8400 0.47741738 [array([[-14.267215 ,   4.2134714],\n",
      "       [-14.204355 ,   4.25319  ]], dtype=float32), array([[-11.244792 ],\n",
      "       [  0.9797393]], dtype=float32)]\n",
      "8500 0.4774158 [array([[-14.328725 ,   4.2287197],\n",
      "       [-14.265865 ,   4.268474 ]], dtype=float32), array([[-11.297114  ],\n",
      "       [  0.97664624]], dtype=float32)]\n",
      "8600 0.47741428 [array([[-14.390111 ,   4.2439094],\n",
      "       [-14.327251 ,   4.283696 ]], dtype=float32), array([[-11.34936  ],\n",
      "       [  0.9735503]], dtype=float32)]\n",
      "8700 0.4774128 [array([[-14.451385 ,   4.2590456],\n",
      "       [-14.388525 ,   4.2988696]], dtype=float32), array([[-11.401526  ],\n",
      "       [  0.97045004]], dtype=float32)]\n",
      "8800 0.47741145 [array([[-14.512548 ,   4.2741256],\n",
      "       [-14.449689 ,   4.313981 ]], dtype=float32), array([[-11.453608 ],\n",
      "       [  0.9673488]], dtype=float32)]\n",
      "8900 0.47741014 [array([[-14.573605,   4.289158],\n",
      "       [-14.510745,   4.329038]], dtype=float32), array([[-11.505626 ],\n",
      "       [  0.9642477]], dtype=float32)]\n",
      "9000 0.47740886 [array([[-14.634556 ,   4.304134 ],\n",
      "       [-14.571695 ,   4.3440437]], dtype=float32), array([[-11.557589  ],\n",
      "       [  0.96114546]], dtype=float32)]\n",
      "9100 0.4774077 [array([[-14.695403,   4.319058],\n",
      "       [-14.632543,   4.359003]], dtype=float32), array([[-11.609468  ],\n",
      "       [  0.95803493]], dtype=float32)]\n",
      "9200 0.47740662 [array([[-14.756149 ,   4.3339314],\n",
      "       [-14.693289 ,   4.373902 ]], dtype=float32), array([[-11.661289 ],\n",
      "       [  0.9549242]], dtype=float32)]\n",
      "9300 0.4774055 [array([[-14.816801 ,   4.3487616],\n",
      "       [-14.753941 ,   4.388756 ]], dtype=float32), array([[-11.713074  ],\n",
      "       [  0.95180655]], dtype=float32)]\n",
      "9400 0.47740453 [array([[-14.877359 ,   4.363541 ],\n",
      "       [-14.814499 ,   4.4035563]], dtype=float32), array([[-11.764764  ],\n",
      "       [  0.94868493]], dtype=float32)]\n",
      "9500 0.47740358 [array([[-14.937825 ,   4.378278 ],\n",
      "       [-14.874965 ,   4.4183154]], dtype=float32), array([[-11.816429  ],\n",
      "       [  0.94555575]], dtype=float32)]\n",
      "9600 0.47740263 [array([[-14.998202 ,   4.3929534],\n",
      "       [-14.935342 ,   4.433018 ]], dtype=float32), array([[-11.868023 ],\n",
      "       [  0.9424236]], dtype=float32)]\n",
      "9700 0.47740182 [array([[-15.0584955,   4.407586 ],\n",
      "       [-14.995635 ,   4.447669 ]], dtype=float32), array([[-11.91958  ],\n",
      "       [  0.9392937]], dtype=float32)]\n",
      "9800 0.47740102 [array([[-15.118707 ,   4.4225097],\n",
      "       [-15.055847 ,   4.4626207]], dtype=float32), array([[-11.971079 ],\n",
      "       [  0.9361265]], dtype=float32)]\n",
      "9900 0.4774003 [array([[-15.178841 ,   4.4377694],\n",
      "       [-15.115982 ,   4.47793  ]], dtype=float32), array([[-12.022545  ],\n",
      "       [  0.93292606]], dtype=float32)]\n",
      "10000 0.4773995 [array([[-15.238901 ,   4.4529953],\n",
      "       [-15.176043 ,   4.493205 ]], dtype=float32), array([[-12.073948  ],\n",
      "       [  0.92971957]], dtype=float32)]\n",
      "\n",
      "Hypothesis:  [[2.866250e-05]\n",
      " [6.666534e-01]\n",
      " [6.666539e-01]\n",
      " [6.666626e-01]] \n",
      "Correct:  [[0.]\n",
      " [1.]\n",
      " [1.]\n",
      " [1.]] \n",
      "Accuracy:  0.75\n"
     ]
    }
   ],
   "source": [
    "import tensorflow as tf\n",
    "import numpy as np\n",
    "\n",
    "learning_rate = 0.01\n",
    "\n",
    "x_data = [[0, 0],\n",
    "          [0, 1],\n",
    "          [1, 0],\n",
    "          [1, 1]]\n",
    "y_data = [[0],\n",
    "          [1],\n",
    "          [1],\n",
    "          [0]]\n",
    "x_data = np.array(x_data, dtype=np.float32)\n",
    "y_data = np.array(y_data, dtype=np.float32)\n",
    "\n",
    "X = tf.placeholder(tf.float32, [None, 2], name='x-input')\n",
    "Y = tf.placeholder(tf.float32, [None, 1], name='y-input')\n",
    "\n",
    "with tf.name_scope(\"layer1\"):\n",
    "    W1 = tf.Variable(tf.random_normal([2, 2]), name='weight1')\n",
    "    b1 = tf.Variable(tf.random_normal([2]), name='bias1')\n",
    "    layer1 = tf.sigmoid(tf.matmul(X, W1) + b1)\n",
    "\n",
    "    w1_hist = tf.summary.histogram(\"weights1\", W1)\n",
    "    b1_hist = tf.summary.histogram(\"biases1\", b1)\n",
    "    layer1_hist = tf.summary.histogram(\"layer1\", layer1)\n",
    "\n",
    "\n",
    "with tf.name_scope(\"layer2\"):\n",
    "    W2 = tf.Variable(tf.random_normal([2, 1]), name='weight2')\n",
    "    b2 = tf.Variable(tf.random_normal([1]), name='bias2')\n",
    "    hypothesis = tf.sigmoid(tf.matmul(layer1, W2) + b2)\n",
    "\n",
    "    w2_hist = tf.summary.histogram(\"weights2\", W2)\n",
    "    b2_hist = tf.summary.histogram(\"biases2\", b2)\n",
    "    hypothesis_hist = tf.summary.histogram(\"hypothesis\", hypothesis)\n",
    "\n",
    "# cost/loss function\n",
    "with tf.name_scope(\"cost\"):\n",
    "    cost = -tf.reduce_mean(Y * tf.log(hypothesis) + (1 - Y) *\n",
    "                           tf.log(1 - hypothesis))\n",
    "    cost_summ = tf.summary.scalar(\"cost\", cost)\n",
    "\n",
    "with tf.name_scope(\"train\"):\n",
    "    train = tf.train.AdamOptimizer(learning_rate=learning_rate).minimize(cost)\n",
    "\n",
    "# Accuracy computation\n",
    "# True if hypothesis>0.5 else False\n",
    "predicted = tf.cast(hypothesis > 0.5, dtype=tf.float32)\n",
    "accuracy = tf.reduce_mean(tf.cast(tf.equal(predicted, Y), dtype=tf.float32))\n",
    "accuracy_summ = tf.summary.scalar(\"accuracy\", accuracy)\n",
    "\n",
    "# Launch graph\n",
    "with tf.Session() as sess:\n",
    "    # tensorboard --logdir=./logs/xor_logs\n",
    "    merged_summary = tf.summary.merge_all()\n",
    "    writer = tf.summary.FileWriter(\"./logs/xor_log\")\n",
    "    writer.add_graph(sess.graph)  # Show the graph\n",
    "\n",
    "    # Initialize TensorFlow variables\n",
    "    sess.run(tf.global_variables_initializer())\n",
    "\n",
    "    for step in range(10001):\n",
    "        summary, _ = sess.run([merged_summary, train], feed_dict={X: x_data, Y: y_data})\n",
    "        writer.add_summary(summary, global_step=step)\n",
    "\n",
    "        if step % 100 == 0:\n",
    "            print(step, sess.run(cost, feed_dict={\n",
    "                  X: x_data, Y: y_data}), sess.run([W1, W2]))\n",
    "\n",
    "    # Accuracy report\n",
    "    h, c, a = sess.run([hypothesis, predicted, accuracy],\n",
    "                       feed_dict={X: x_data, Y: y_data})\n",
    "    print(\"\\nHypothesis: \", h, \"\\nCorrect: \", c, \"\\nAccuracy: \", a)\n"
   ]
  },
  {
   "cell_type": "code",
   "execution_count": 15,
   "metadata": {},
   "outputs": [],
   "source": [
    "#!tensorboard --logdir='./logs/xor_log'"
   ]
  }
 ],
 "metadata": {
  "kernelspec": {
   "display_name": "Python 3",
   "language": "python",
   "name": "python3"
  },
  "language_info": {
   "codemirror_mode": {
    "name": "ipython",
    "version": 3
   },
   "file_extension": ".py",
   "mimetype": "text/x-python",
   "name": "python",
   "nbconvert_exporter": "python",
   "pygments_lexer": "ipython3",
   "version": "3.6.5"
  }
 },
 "nbformat": 4,
 "nbformat_minor": 2
}
