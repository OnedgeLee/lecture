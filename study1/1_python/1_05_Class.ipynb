{
 "cells": [
  {
   "cell_type": "code",
   "execution_count": 12,
   "metadata": {},
   "outputs": [],
   "source": [
    "class operation:\n",
    "    def __init__(self):\n",
    "        self.result = 0\n",
    "\n",
    "    def add(self, a, b):\n",
    "        self.result = a+b\n",
    "    \n",
    "    def div(self, a, b):\n",
    "        self.result = a/b\n",
    "    \n",
    "    def get(self):\n",
    "        return self.result"
   ]
  },
  {
   "cell_type": "code",
   "execution_count": 14,
   "metadata": {},
   "outputs": [
    {
     "name": "stdout",
     "output_type": "stream",
     "text": [
      "140004061235912\n",
      "0\n",
      "2.0\n"
     ]
    }
   ],
   "source": [
    "op = operation()\n",
    "print(id(op)) # id 함수는 객체의 주소를 반환\n",
    "print(op.get())\n",
    "op.div(6,3)\n",
    "print(op.get())"
   ]
  }
 ],
 "metadata": {
  "kernelspec": {
   "display_name": "Python 3",
   "language": "python",
   "name": "python3"
  },
  "language_info": {
   "codemirror_mode": {
    "name": "ipython",
    "version": 3
   },
   "file_extension": ".py",
   "mimetype": "text/x-python",
   "name": "python",
   "nbconvert_exporter": "python",
   "pygments_lexer": "ipython3",
   "version": "3.6.5"
  }
 },
 "nbformat": 4,
 "nbformat_minor": 2
}
