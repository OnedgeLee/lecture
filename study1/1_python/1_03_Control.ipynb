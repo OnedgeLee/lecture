{
 "cells": [
  {
   "cell_type": "code",
   "execution_count": 3,
   "metadata": {},
   "outputs": [
    {
     "name": "stdout",
     "output_type": "stream",
     "text": [
      "else\n"
     ]
    }
   ],
   "source": [
    "condition1 = 5\n",
    "if condition1 == 1:\n",
    "    print(\"1\")\n",
    "elif condition1 == 2:\n",
    "    print(\"2\")\n",
    "else:\n",
    "    print(\"else\")"
   ]
  },
  {
   "cell_type": "code",
   "execution_count": 6,
   "metadata": {
    "scrolled": true
   },
   "outputs": [
    {
     "name": "stdout",
     "output_type": "stream",
     "text": [
      "while 문\n",
      "0\n",
      "1\n",
      "2\n",
      "3\n",
      "4\n",
      "5\n",
      "6\n",
      "7\n",
      "8\n",
      "9\n",
      "10\n"
     ]
    }
   ],
   "source": [
    "print(\"while 문\")\n",
    "# while 문\n",
    "condition2 = 0\n",
    "\n",
    "while condition2 <= 10:\n",
    "    print(condition2)\n",
    "#     condition2 = condition2 + 1\n",
    "    condition2 += 1"
   ]
  },
  {
   "cell_type": "code",
   "execution_count": 11,
   "metadata": {},
   "outputs": [
    {
     "name": "stdout",
     "output_type": "stream",
     "text": [
      "for 문\n",
      "10\n",
      "11\n",
      "12\n",
      "13\n",
      "14\n"
     ]
    }
   ],
   "source": [
    "print(\"for 문\")\n",
    "\n",
    "for ii in range(10,15):\n",
    "    print(ii)"
   ]
  },
  {
   "cell_type": "code",
   "execution_count": 12,
   "metadata": {},
   "outputs": [
    {
     "name": "stdout",
     "output_type": "stream",
     "text": [
      "1\n",
      "2\n",
      "3\n",
      "5\n",
      "7\n",
      "9\n"
     ]
    }
   ],
   "source": [
    "condition3 = [1,2,3,5,7,9]\n",
    "for jj in condition3:\n",
    "    print(jj)"
   ]
  },
  {
   "cell_type": "code",
   "execution_count": 5,
   "metadata": {},
   "outputs": [
    {
     "name": "stdout",
     "output_type": "stream",
     "text": [
      "False\n",
      "False\n",
      "False\n",
      "False\n",
      "False\n",
      "False\n",
      "False\n"
     ]
    }
   ],
   "source": [
    "# python falsy values\n",
    "# None\n",
    "# False\n",
    "# 0\n",
    "# 0.0\n",
    "# 0j\n",
    "# Decimal(0)\n",
    "# Fraction(0, 1)\n",
    "# [] - an empty list\n",
    "# {} - an empty dict\n",
    "# () - an empty tuple\n",
    "# '' - an empty str\n",
    "# b'' - an empty bytes\n",
    "# set() - an empty set\n",
    "# an empty range, like range(0)\n",
    "\n",
    "print(bool(None))\n",
    "print(bool(0))\n",
    "print(bool([]))\n",
    "print(bool({}))\n",
    "print(bool(()))\n",
    "print(bool(''))\n",
    "print(bool(range(0)))"
   ]
  },
  {
   "cell_type": "code",
   "execution_count": null,
   "metadata": {},
   "outputs": [],
   "source": []
  }
 ],
 "metadata": {
  "kernelspec": {
   "display_name": "Python 3",
   "language": "python",
   "name": "python3"
  },
  "language_info": {
   "codemirror_mode": {
    "name": "ipython",
    "version": 3
   },
   "file_extension": ".py",
   "mimetype": "text/x-python",
   "name": "python",
   "nbconvert_exporter": "python",
   "pygments_lexer": "ipython3",
   "version": "3.6.5"
  }
 },
 "nbformat": 4,
 "nbformat_minor": 2
}
