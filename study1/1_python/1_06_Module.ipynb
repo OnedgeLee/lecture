{
 "cells": [
  {
   "cell_type": "code",
   "execution_count": 1,
   "metadata": {
    "scrolled": true
   },
   "outputs": [
    {
     "name": "stdout",
     "output_type": "stream",
     "text": [
      "This is package.ex.example() in 'package.ex'!\n"
     ]
    }
   ],
   "source": [
    "# package\n",
    "import package.ex\n",
    "print(package.ex.example())"
   ]
  },
  {
   "cell_type": "code",
   "execution_count": 2,
   "metadata": {},
   "outputs": [
    {
     "name": "stdout",
     "output_type": "stream",
     "text": [
      "This is package.ex.example() in 'package.ex'!\n"
     ]
    }
   ],
   "source": [
    "from package import ex\n",
    "print(ex.example())"
   ]
  },
  {
   "cell_type": "code",
   "execution_count": 3,
   "metadata": {},
   "outputs": [
    {
     "name": "stdout",
     "output_type": "stream",
     "text": [
      "This is package.ex.example() in 'package.ex'!\n"
     ]
    }
   ],
   "source": [
    "from package import * # package.__init__.py\n",
    "print(ex.example())"
   ]
  },
  {
   "cell_type": "code",
   "execution_count": 4,
   "metadata": {},
   "outputs": [
    {
     "name": "stdout",
     "output_type": "stream",
     "text": [
      "This is package.sub.subex.example() in 'package.sub.subex'!\n"
     ]
    }
   ],
   "source": [
    "# sub package\n",
    "# package/sub/subex.py\n",
    "import package.sub.subex\n",
    "print(package.sub.subex.example())"
   ]
  },
  {
   "cell_type": "code",
   "execution_count": 5,
   "metadata": {},
   "outputs": [
    {
     "name": "stdout",
     "output_type": "stream",
     "text": [
      "This is package.sub.subex.example() in 'package.sub.subex'!\n"
     ]
    }
   ],
   "source": [
    "from package.sub import subex\n",
    "print(subex.example())"
   ]
  },
  {
   "cell_type": "code",
   "execution_count": 6,
   "metadata": {},
   "outputs": [
    {
     "name": "stdout",
     "output_type": "stream",
     "text": [
      "This is package.sub.subex.example() in 'package.sub.subex'!\n",
      "This is package.sub.subex.example() in 'package.sub.subex'!\n"
     ]
    }
   ],
   "source": [
    "from package.sub.subex import example\n",
    "print(example())\n",
    "\n",
    "from package.sub import * # package.sub.__init__.py\n",
    "print(subex.example())"
   ]
  },
  {
   "cell_type": "code",
   "execution_count": null,
   "metadata": {
    "collapsed": true
   },
   "outputs": [],
   "source": []
  }
 ],
 "metadata": {
  "kernelspec": {
   "display_name": "Python 3",
   "language": "python",
   "name": "python3"
  },
  "language_info": {
   "codemirror_mode": {
    "name": "ipython",
    "version": 3
   },
   "file_extension": ".py",
   "mimetype": "text/x-python",
   "name": "python",
   "nbconvert_exporter": "python",
   "pygments_lexer": "ipython3",
   "version": "3.6.5"
  }
 },
 "nbformat": 4,
 "nbformat_minor": 2
}
