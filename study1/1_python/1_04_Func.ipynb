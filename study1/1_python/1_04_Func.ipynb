{
 "cells": [
  {
   "cell_type": "code",
   "execution_count": 16,
   "metadata": {},
   "outputs": [
    {
     "name": "stdout",
     "output_type": "stream",
     "text": [
      "add_1\n",
      "1.0\n"
     ]
    }
   ],
   "source": [
    "#positional parameters\n",
    "def add_1(a, b):\n",
    "    c = a/b\n",
    "    print(\"add_1\")\n",
    "    return c\n",
    "print(add_1(2,2))"
   ]
  },
  {
   "cell_type": "code",
   "execution_count": 20,
   "metadata": {},
   "outputs": [
    {
     "name": "stdout",
     "output_type": "stream",
     "text": [
      "add_2\n",
      "1.0\n",
      "add_2\n",
      "0.5\n"
     ]
    }
   ],
   "source": [
    "#positional and keyword parameter\n",
    "def add_2(a, b=2):\n",
    "    c = a/b\n",
    "    print(\"add_2\")\n",
    "    return c\n",
    "\n",
    "print(add_2(2))\n",
    "print(add_2(2,4))"
   ]
  },
  {
   "cell_type": "code",
   "execution_count": 23,
   "metadata": {},
   "outputs": [
    {
     "name": "stdout",
     "output_type": "stream",
     "text": [
      "add_3\n",
      "1.0\n",
      "add_3\n",
      "0.5\n"
     ]
    }
   ],
   "source": [
    "#positional and keyword parameter \n",
    "def add_3(a, *, b=2):\n",
    "    c = a/b\n",
    "    print(\"add_3\")\n",
    "    return c\n",
    "\n",
    "print(add_3(2))\n",
    "#print(add_3(2, 4))\n",
    "print(add_3(2, b=4))"
   ]
  },
  {
   "cell_type": "code",
   "execution_count": null,
   "metadata": {},
   "outputs": [],
   "source": []
  }
 ],
 "metadata": {
  "kernelspec": {
   "display_name": "Python 3",
   "language": "python",
   "name": "python3"
  },
  "language_info": {
   "codemirror_mode": {
    "name": "ipython",
    "version": 3
   },
   "file_extension": ".py",
   "mimetype": "text/x-python",
   "name": "python",
   "nbconvert_exporter": "python",
   "pygments_lexer": "ipython3",
   "version": "3.6.5"
  }
 },
 "nbformat": 4,
 "nbformat_minor": 2
}
